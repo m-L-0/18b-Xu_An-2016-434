{
 "cells": [
  {
   "cell_type": "markdown",
   "metadata": {},
   "source": [
    "# Tensorflow Schoolwork—— Iris Classification using KNN\n",
    "#### author：Hsu An      2016011434\n",
    "#### last update: 21 Nov 2018"
   ]
  },
  {
   "cell_type": "markdown",
   "metadata": {},
   "source": [
    "基本思路：\n",
    "1. 对所有样本进行标准化处理\n",
    "2. 指定参数K，确定距离度量方式\n",
    "3. 对于每个测试样本，根据度量方式找到其k个近邻，根据等权投票规则对测试集进行类别划分"
   ]
  },
  {
   "cell_type": "markdown",
   "metadata": {},
   "source": [
    "## 1.导入必要的包"
   ]
  },
  {
   "cell_type": "code",
   "execution_count": 1,
   "metadata": {},
   "outputs": [],
   "source": [
    "import tensorflow as tf\n",
    "import numpy as np\n",
    "\n",
    "from sklearn.datasets import load_iris\n",
    "from sklearn.model_selection import train_test_split\n",
    "from sklearn.preprocessing import StandardScaler\n",
    "from sklearn.metrics import accuracy_score\n",
    "\n",
    "import matplotlib.pyplot as plt"
   ]
  },
  {
   "cell_type": "code",
   "execution_count": 2,
   "metadata": {},
   "outputs": [],
   "source": [
    "# 开启eager模式\n",
    "tf.enable_eager_execution()"
   ]
  },
  {
   "cell_type": "markdown",
   "metadata": {},
   "source": [
    "## 2.导入数据与数据集预处理"
   ]
  },
  {
   "cell_type": "code",
   "execution_count": 3,
   "metadata": {},
   "outputs": [],
   "source": [
    "# 导入iris数据集\n",
    "\n",
    "iris = load_iris()  # 加载数据集\n",
    "\n",
    "features = iris.data # 获取属性数据(各种特征值)\n",
    "labels = iris.target # 获取类别数据（花的分类）\n",
    "target_names = iris.target_names # 获取数据的分类名称（花的分类名称）"
   ]
  },
  {
   "cell_type": "code",
   "execution_count": 4,
   "metadata": {},
   "outputs": [],
   "source": [
    "# 按照8：2的比例随机划分训练集集和测试集\n",
    "X_train,X_test,y_train,y_test = train_test_split(features,labels,test_size=0.2, random_state=1,shuffle=True)"
   ]
  },
  {
   "cell_type": "code",
   "execution_count": 5,
   "metadata": {},
   "outputs": [],
   "source": [
    "# 将训练集与测试集数据进行标准化处理\n",
    "std = StandardScaler()\n",
    "X_train = std.fit_transform(X_train)\n",
    "X_test = std.fit_transform(X_test)"
   ]
  },
  {
   "cell_type": "code",
   "execution_count": 6,
   "metadata": {},
   "outputs": [],
   "source": [
    "# 生成距离矩阵\n",
    "dis_array = np.array([])\n",
    "for x_test_index,x_test in enumerate(X_test):\n",
    "    for x_train_index,x_train in enumerate(X_train):\n",
    "        distance = tf.sqrt(tf.reduce_sum(tf.square(x_test-x_train))) # 计算测试集数据与每个训练集数据的欧式距离\n",
    "        distance = tf.to_float(distance)\n",
    "        dis_array = np.append(dis_array, distance)\n",
    "\n",
    "dis_array = dis_array.reshape(30,120) # 改变距离矩阵形状，变成30行120列"
   ]
  },
  {
   "cell_type": "markdown",
   "metadata": {},
   "source": [
    "## 3.KNN算法"
   ]
  },
  {
   "cell_type": "code",
   "execution_count": 21,
   "metadata": {},
   "outputs": [],
   "source": [
    "# 将距离矩阵从大到小进行排序,经过KNN决策后输出最终结果\n",
    "dis_tensor = tf.constant(dis_array)\n",
    "\n",
    "n = 29\n",
    "samples_num =  len(X_test)\n",
    "\n",
    "predict_label = np.array([])\n",
    "for i in range(samples_num):\n",
    "    top_k = tf.nn.top_k(-dis_tensor[i],n) # 选择n个近邻\n",
    "    class_0_counter = 0\n",
    "    class_1_counter = 0\n",
    "    class_2_counter = 0\n",
    "    for j in range(n):\n",
    "        if y_train[top_k[1][j]] == 0:\n",
    "            class_0_counter += 1\n",
    "        elif y_train[top_k[1][j]] == 1:\n",
    "            class_1_counter += 1\n",
    "        else:\n",
    "            class_2_counter += 1\n",
    "        dict = {'class_0': class_0_counter, 'class_1': class_1_counter,'class_2':class_2_counter} # 初始化字典\n",
    "        dict = sorted(dict.items(),key=lambda item:item[1]) # 将计数列表进行排序后，输出在k个近邻中相邻最多的那个类别\n",
    "    if dict[2][0] == 'class_0':\n",
    "        predict_label = np.append(predict_label,0)\n",
    "    elif dict[2][0] == 'class_1':\n",
    "        predict_label = np.append(predict_label,1)\n",
    "    else:\n",
    "        predict_label = np.append(predict_label,2)"
   ]
  },
  {
   "cell_type": "markdown",
   "metadata": {},
   "source": [
    "## 4.模型评价"
   ]
  },
  {
   "cell_type": "code",
   "execution_count": 22,
   "metadata": {},
   "outputs": [
    {
     "name": "stdout",
     "output_type": "stream",
     "text": [
      "0.9333333333333333\n"
     ]
    }
   ],
   "source": [
    "acc = accuracy_score(predict_label,y_test)\n",
    "print(acc)"
   ]
  },
  {
   "cell_type": "markdown",
   "metadata": {},
   "source": [
    "## 5.参数选择"
   ]
  },
  {
   "cell_type": "code",
   "execution_count": 23,
   "metadata": {},
   "outputs": [],
   "source": [
    "dis_tensor = tf.constant(dis_array)\n",
    "samples_num =  len(X_test)\n",
    "\n",
    "acc_list = np.array([])\n",
    "for n in range(120):\n",
    "    predict_label = np.array([])\n",
    "    for i in range(samples_num):\n",
    "        top_k = tf.nn.top_k(-dis_tensor[i],n) # 选择n个近邻\n",
    "        class_0_counter = 0\n",
    "        class_1_counter = 0\n",
    "        class_2_counter = 0\n",
    "        for j in range(n):\n",
    "            if y_train[top_k[1][j]] == 0:\n",
    "                class_0_counter += 1\n",
    "            elif y_train[top_k[1][j]] == 1:\n",
    "                class_1_counter += 1\n",
    "            else:\n",
    "                class_2_counter += 1\n",
    "            dict = {'class_0': class_0_counter, 'class_1': class_1_counter,'class_2':class_2_counter} # 初始化字典\n",
    "            dict = sorted(dict.items(),key=lambda item:item[1])\n",
    "        if dict[2][0] == 'class_0':\n",
    "            predict_label = np.append(predict_label,0)\n",
    "        elif dict[2][0] == 'class_1':\n",
    "            predict_label = np.append(predict_label,1)\n",
    "        else:\n",
    "            predict_label = np.append(predict_label,2)\n",
    "    acc = accuracy_score(predict_label,y_test)\n",
    "    acc_list = np.append(acc_list,acc)"
   ]
  },
  {
   "cell_type": "code",
   "execution_count": 24,
   "metadata": {},
   "outputs": [
    {
     "data": {
      "text/plain": [
       "[<matplotlib.lines.Line2D at 0x128f1e710>]"
      ]
     },
     "execution_count": 24,
     "metadata": {},
     "output_type": "execute_result"
    },
    {
     "data": {
      "image/png": "[encoded data removed]",
      "text/plain": [
       "<matplotlib.figure.Figure at 0x128d27320>"
      ]
     },
     "metadata": {
      "needs_background": "light"
     },
     "output_type": "display_data"
    }
   ],
   "source": [
    "x = np.arange(120)\n",
    "\n",
    "plt.plot(x,acc_list)"
   ]
  },
  {
   "cell_type": "code",
   "execution_count": 26,
   "metadata": {},
   "outputs": [
    {
     "data": {
      "text/plain": [
       "(array([29]),)"
      ]
     },
     "execution_count": 26,
     "metadata": {},
     "output_type": "execute_result"
    }
   ],
   "source": [
    "acc_max_n = np.where(acc_list==max(acc_list))\n",
    "acc_max_n"
   ]
  },
  {
   "cell_type": "code",
   "execution_count": 27,
   "metadata": {},
   "outputs": [],
   "source": [
    "# 经过统计，可以发现当n=29时，对于测试集的模型预测性能最好"
   ]
  }
 ],
 "metadata": {
  "kernelspec": {
   "display_name": "Python 3",
   "language": "python",
   "name": "python3"
  },
  "language_info": {
   "codemirror_mode": {
    "name": "ipython",
    "version": 3
   },
   "file_extension": ".py",
   "mimetype": "text/x-python",
   "name": "python",
   "nbconvert_exporter": "python",
   "pygments_lexer": "ipython3",
   "version": "3.6.4"
  }
 },
 "nbformat": 4,
 "nbformat_minor": 2
}
